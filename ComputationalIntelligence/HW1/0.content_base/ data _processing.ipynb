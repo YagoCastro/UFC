{
 "cells": [
  {
   "cell_type": "code",
   "execution_count": null,
   "id": "d763951c",
   "metadata": {},
   "outputs": [],
   "source": []
  },
  {
   "cell_type": "code",
   "execution_count": null,
   "id": "536bb366",
   "metadata": {},
   "outputs": [],
   "source": []
  },
  {
   "cell_type": "code",
   "execution_count": null,
   "id": "0a551459",
   "metadata": {},
   "outputs": [],
   "source": []
  },
  {
   "cell_type": "code",
   "execution_count": null,
   "id": "cc1d1fa1",
   "metadata": {},
   "outputs": [],
   "source": []
  },
  {
   "cell_type": "markdown",
   "id": "53b5f6d6",
   "metadata": {},
   "source": [
    "# Outliers"
   ]
  },
  {
   "cell_type": "markdown",
   "id": "2ba10d6f",
   "metadata": {},
   "source": [
    "Tratamos Outliers para evitar que o modelo de machine learning aprenda padrões incorretos"
   ]
  },
  {
   "cell_type": "markdown",
   "id": "db73c27a",
   "metadata": {},
   "source": [
    "Outliers são pontos muito distantes do centro de distribuição dos dados e impactam grande parte das análises e modelos de machine learning\n",
    "\n",
    "As causas de outlieres podem ser:\n",
    "    - Erro de mensuração/amostragem\n",
    "    - Outlier natural dos dados\n",
    "    \n",
    "Neste tópico aprenderemos como identificar e tratar outliers, que seja removendo-os ou aplicando transformação.\n",
    "\n",
    "Cabe ressaltar que outliers naturais dos dados não devem ser removidos levianamente, ou seja, sem antes identicá-los e sem tentar entender seus motivos, se há padrões neste outliers. Uma vez identificado estes outliers e suas possíveis causas, eno caso de não haver problema/interesse em não considerá-los na análise, podemos removê-los\n",
    "\n",
    "    "
   ]
  },
  {
   "cell_type": "markdown",
   "id": "51868dd1",
   "metadata": {},
   "source": [
    "Identificando/removendo outliers"
   ]
  },
  {
   "cell_type": "markdown",
   "id": "31cc829b",
   "metadata": {},
   "source": [
    "A maneira mais direta (e simples) de observar um outlier é através do gráfico boxplot:"
   ]
  },
  {
   "cell_type": "markdown",
   "id": "d4566dca",
   "metadata": {},
   "source": []
  },
  {
   "cell_type": "markdown",
   "id": "058344ca",
   "metadata": {},
   "source": [
    "## Interquartile range"
   ]
  },
  {
   "cell_type": "code",
   "execution_count": null,
   "id": "c33f1165",
   "metadata": {},
   "outputs": [],
   "source": [
    "Podemosidentificar os outliers pelo método interquartil, tutilizando a seguinte fórmula:"
   ]
  },
  {
   "cell_type": "code",
   "execution_count": null,
   "id": "df299cf6",
   "metadata": {},
   "outputs": [],
   "source": [
    "lower_outlier = Q1 - 1,5 \\cdot IQR"
   ]
  },
  {
   "cell_type": "code",
   "execution_count": null,
   "id": "ba66d2dc",
   "metadata": {},
   "outputs": [],
   "source": []
  },
  {
   "cell_type": "code",
   "execution_count": null,
   "id": "995d8b06",
   "metadata": {},
   "outputs": [],
   "source": [
    "onde Q1 represente o primeiro quartil, Q3 o terceito e IQR eo intervalo intervquartil\n",
    "Segue"
   ]
  },
  {
   "cell_type": "code",
   "execution_count": null,
   "id": "bb6b34a3",
   "metadata": {},
   "outputs": [],
   "source": []
  },
  {
   "cell_type": "code",
   "execution_count": null,
   "id": "b030f254",
   "metadata": {},
   "outputs": [],
   "source": [
    "df[df.apply(is_outlier).any(axis=1)]"
   ]
  },
  {
   "cell_type": "code",
   "execution_count": null,
   "id": "5fd81ed7",
   "metadata": {},
   "outputs": [],
   "source": []
  }
 ],
 "metadata": {
  "kernelspec": {
   "display_name": "Python 3 (ipykernel)",
   "language": "python",
   "name": "python3"
  },
  "language_info": {
   "codemirror_mode": {
    "name": "ipython",
    "version": 3
   },
   "file_extension": ".py",
   "mimetype": "text/x-python",
   "name": "python",
   "nbconvert_exporter": "python",
   "pygments_lexer": "ipython3",
   "version": "3.9.13"
  }
 },
 "nbformat": 4,
 "nbformat_minor": 5
}
